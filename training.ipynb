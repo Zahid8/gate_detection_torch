{
  "nbformat": 4,
  "nbformat_minor": 0,
  "metadata": {
    "colab": {
      "name": "Detecto.ipynb",
      "provenance": [],
      "private_outputs": true,
      "collapsed_sections": []
    },
    "kernelspec": {
      "name": "python3",
      "display_name": "Python 3"
    },
    "accelerator": "GPU"
  },
  "cells": [
    {
      "cell_type": "markdown",
      "metadata": {
        "id": "I_N53zxDtLcI",
        "colab_type": "text"
      },
      "source": [
        "First, mount your drive to give the notebook access to your Drive."
      ]
    },
    {
      "cell_type": "code",
      "metadata": {
        "id": "akEJID_wnMTc",
        "colab_type": "code",
        "colab": {}
      },
      "source": [
        "from google.colab import drive\n",
        "drive.mount('/content/drive')"
      ],
      "execution_count": 0,
      "outputs": []
    },
    {
      "cell_type": "markdown",
      "metadata": {
        "id": "9Ds9xP7rtnrZ",
        "colab_type": "text"
      },
      "source": [
        "Next, change directory to wherever you created your folder. "
      ]
    },
    {
      "cell_type": "code",
      "metadata": {
        "id": "FkyXFsLGtvyc",
        "colab_type": "code",
        "colab": {}
      },
      "source": [
        "import os\n",
        "# Change this to your Drive folder location\n",
        "WORKING_DIRECTORY = '/content/drive/My Drive/Colab Notebooks/GateDetector/object_detection/data'\n",
        "os.chdir(WORKING_DIRECTORY)"
      ],
      "execution_count": 0,
      "outputs": []
    },
    {
      "cell_type": "markdown",
      "metadata": {
        "id": "43sPuLgxuemn",
        "colab_type": "text"
      },
      "source": [
        "Now, let's install the Detecto package using pip. "
      ]
    },
    {
      "cell_type": "code",
      "metadata": {
        "id": "M3-sRIuiuYDh",
        "colab_type": "code",
        "colab": {}
      },
      "source": [
        "!pip install detecto"
      ],
      "execution_count": 0,
      "outputs": []
    },
    {
      "cell_type": "markdown",
      "metadata": {
        "id": "peLysju5vOgA",
        "colab_type": "text"
      },
      "source": [
        "Import everything we need in the following code block:"
      ]
    },
    {
      "cell_type": "code",
      "metadata": {
        "id": "XgJi8407uowH",
        "colab_type": "code",
        "colab": {}
      },
      "source": [
        "import torch\n",
        "import torchvision\n",
        "import matplotlib.pyplot as plt\n",
        "\n",
        "from torchvision import transforms\n",
        "\n",
        "from detecto import core\n",
        "from detecto import utils\n",
        "from detecto import visualize"
      ],
      "execution_count": 0,
      "outputs": []
    },
    {
      "cell_type": "markdown",
      "metadata": {
        "id": "gCEC_0EQwLDf",
        "colab_type": "text"
      },
      "source": [
        "How cute! Now, we're ready to create our dataset and train our model. However, before doing so, it's a bit awkward working with hundreds of individual XML label files, so we need to convert them into a single CSV file. "
      ]
    },
    {
      "cell_type": "code",
      "metadata": {
        "id": "_Pnr8quRv8v7",
        "colab_type": "code",
        "colab": {}
      },
      "source": [
        "# Do this twice: once for our training labels and once for our validation labels\n",
        "utils.xml_to_csv('train_labels', 'train_labels.csv')\n",
        "utils.xml_to_csv('val_labels', 'test_labels.csv')"
      ],
      "execution_count": 0,
      "outputs": []
    },
    {
      "cell_type": "markdown",
      "metadata": {
        "id": "csLF8GKQ3CGe",
        "colab_type": "text"
      },
      "source": [
        "Below, we create our dataset, applying a couple of transforms beforehand. These are optional, but they can be useful for augmenting your dataset without gathering more data. "
      ]
    },
    {
      "cell_type": "code",
      "metadata": {
        "id": "m7j17jxf31Gk",
        "colab_type": "code",
        "colab": {}
      },
      "source": [
        "# Specify a list of transformations for our dataset to apply on our images\n",
        "transform_img = transforms.Compose([\n",
        "    transforms.ToPILImage(),\n",
        "    transforms.Resize(800),\n",
        "    transforms.RandomHorizontalFlip(0.5),\n",
        "    transforms.ToTensor(),\n",
        "    utils.normalize_transform(),\n",
        "])\n",
        "\n",
        "dataset = core.Dataset('train_labels.csv', 'images/', transform=transform_img)"
      ],
      "execution_count": 0,
      "outputs": []
    },
    {
      "cell_type": "markdown",
      "metadata": {
        "id": "kPFYk-lv6Cgd",
        "colab_type": "text"
      },
      "source": [
        "Finally, let's train our model! We need to create a DataLoader over our dataset to specify how we feed the images into our model. We should also use our validation dataset to track the accuracy of the model throughout training. "
      ]
    },
    {
      "cell_type": "code",
      "metadata": {
        "id": "WLRHugVo6kAt",
        "colab_type": "code",
        "colab": {}
      },
      "source": [
        "# Create our validation dataset\n",
        "val_dataset = core.Dataset('test_labels.csv', 'images/', transform=transform_img)\n",
        "\n",
        "# Create the loaders for our train and validation datasets\n",
        "loader = core.DataLoader(dataset, batch_size=2, shuffle=True)\n",
        "val_loader = core.DataLoader(val_dataset)\n",
        "\n",
        "# Create our model, passing in all unique classes we're predicting\n",
        "# Note: make sure these match exactly with the labels in the XML/CSV files!\n",
        "model = core.Model(['gate'])\n",
        "\n",
        "# Train the model! This step can take a while, so make sure you\n",
        "# the GPU is turned on in Edit -> Notebook settings\n",
        "losses = model.fit(loader, val_loader, epochs=30, learning_rate=0.01, gamma=0.2, lr_step_size=5, verbose=True)\n",
        "\n",
        "model.save('trained_model.pth')\n",
        "\n",
        "# Plot the accuracy over time\n",
        "plt.plot(losses)\n",
        "plt.show()"
      ],
      "execution_count": 0,
      "outputs": []
    },
    {
      "cell_type": "code",
      "metadata": {
        "id": "rvHbAcLb9cIL",
        "colab_type": "code",
        "colab": {}
      },
      "source": [
        "from detecto.visualize import plot_prediction_grid, detect_video\n",
        "\n",
        "detect_video(model, 'input.mp4', 'output.mp4')"
      ],
      "execution_count": 0,
      "outputs": []
    }
  ]
}